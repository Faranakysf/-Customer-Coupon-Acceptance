{
  "cells": [
    {
      "cell_type": "markdown",
      "metadata": {
        "id": "CcUT6Fon_qRE"
      },
      "source": [
        "### Will the Customer Accept the Coupon?\n",
        "\n",
        "**Context**\n",
        "\n",
        "Imagine driving through town and a coupon is delivered to your cell phone for a restaurant near where you are driving. Would you accept that coupon and take a short detour to the restaurant? Would you accept the coupon but use it on a subsequent trip? Would you ignore the coupon entirely? What if the coupon was for a bar instead of a restaurant? What about a coffee house? Would you accept a bar coupon with a minor passenger in the car? What about if it was just you and your partner in the car? Would weather impact the rate of acceptance? What about the time of day?\n",
        "\n",
        "Obviously, proximity to the business is a factor on whether the coupon is delivered to the driver or not, but what are the factors that determine whether a driver accepts the coupon once it is delivered to them? How would you determine whether a driver is likely to accept a coupon?\n",
        "\n",
        "**Overview**\n",
        "\n",
        "The goal of this project is to use visualizations and probability distributions to distinguish between customers who accepted a driving coupon versus those that did not.\n",
        "\n",
        "**Data**\n",
        "\n",
        "This data comes to us from the UCI Machine Learning repository and was collected via a survey on Amazon Mechanical Turk. The survey describes different driving scenarios including the destination, current time, weather, passenger, etc., and then ask the person whether he will accept the coupon if he is the driver. Answers that the user will drive there ‘right away’ or ‘later before the coupon expires’ are labeled as ‘Y = 1’ and answers ‘no, I do not want the coupon’ are labeled as ‘Y = 0’.  There are five different types of coupons -- less expensive restaurants (under \\$20), coffee houses, carry out & take away, bar, and more expensive restaurants (\\$20 - $50)."
      ]
    },
    {
      "cell_type": "code",
      "execution_count": null,
      "metadata": {},
      "outputs": [],
      "source": []
    },
    {
      "cell_type": "markdown",
      "metadata": {
        "id": "1wORvMBJ_qRF"
      },
      "source": [
        "**Key Findings*\n",
        "\n",
        "Based on the analysis of bar coupon acceptance in the dataset, I hypothesize that drivers who accept bar coupons are more likely to be frequent bar visitors (visiting more than once per month) and are typically over 25 years old. Additionally, they are often traveling with friends or partners rather than children, creating a social context that aligns with bar visits. Their occupations also play a role—those not in farming occupations are more likely to accept coupons, possibly due to lifestyle differences that make bar visits more feasible or appealing.\n",
        "\n",
        "In addition, these drivers tend to exhibit cost-conscious behavior, often having incomes below $50,000 and frequently visiting inexpensive restaurants (more than 4 times per month). This suggests that they are motivated by discounts and value-driven offers, making bar coupons particularly attractive. Overall, the profile of a bar coupon acceptor appears to be a socially active, budget-conscious individual who is already inclined to visit bars and sees the coupon as an added incentive for their lifestyle."
      ]
    },
    {
      "cell_type": "markdown",
      "metadata": {
        "id": "pG6_Ym6q_qRG"
      },
      "source": [
        "### Data Description\n",
        "Keep in mind that these values mentioned below are average values.\n",
        "\n",
        "The attributes of this data set include:\n",
        "1. User attributes\n",
        "    -  Gender: male, female\n",
        "    -  Age: below 21, 21 to 25, 26 to 30, etc.\n",
        "    -  Marital Status: single, married partner, unmarried partner, or widowed\n",
        "    -  Number of children: 0, 1, or more than 1\n",
        "    -  Education: high school, bachelors degree, associates degree, or graduate degree\n",
        "    -  Occupation: architecture & engineering, business & financial, etc.\n",
        "    -  Annual income: less than \\\\$12500, \\\\$12500 - \\\\$24999, \\\\$25000 - \\\\$37499, etc.\n",
        "    -  Number of times that he/she goes to a bar: 0, less than 1, 1 to 3, 4 to 8 or greater than 8\n",
        "    -  Number of times that he/she buys takeaway food: 0, less than 1, 1 to 3, 4 to 8 or greater\n",
        "    than 8\n",
        "    -  Number of times that he/she goes to a coffee house: 0, less than 1, 1 to 3, 4 to 8 or\n",
        "    greater than 8\n",
        "    -  Number of times that he/she eats at a restaurant with average expense less than \\\\$20 per\n",
        "    person: 0, less than 1, 1 to 3, 4 to 8 or greater than 8\n",
        "    -  Number of times that he/she goes to a bar: 0, less than 1, 1 to 3, 4 to 8 or greater than 8\n",
        "    \n",
        "\n",
        "2. Contextual attributes\n",
        "    - Driving destination: home, work, or no urgent destination\n",
        "    - Location of user, coupon and destination: we provide a map to show the geographical\n",
        "    location of the user, destination, and the venue, and we mark the distance between each\n",
        "    two places with time of driving. The user can see whether the venue is in the same\n",
        "    direction as the destination.\n",
        "    - Weather: sunny, rainy, or snowy\n",
        "    - Temperature: 30F, 55F, or 80F\n",
        "    - Time: 10AM, 2PM, or 6PM\n",
        "    - Passenger: alone, partner, kid(s), or friend(s)\n",
        "\n",
        "\n",
        "3. Coupon attributes\n",
        "    - time before it expires: 2 hours or one day"
      ]
    },
    {
      "cell_type": "code",
      "execution_count": 159,
      "metadata": {
        "id": "dzNoP3o__qRG"
      },
      "outputs": [],
      "source": [
        "import matplotlib.pyplot as plt\n",
        "import seaborn as sns\n",
        "import pandas as pd\n",
        "import numpy as np"
      ]
    },
    {
      "cell_type": "code",
      "execution_count": 160,
      "metadata": {
        "id": "X0vbffYg_qRH"
      },
      "outputs": [],
      "source": [
        "df = pd.read_csv('data/couponsdata.csv')"
      ]
    },
    {
      "cell_type": "code",
      "execution_count": 161,
      "metadata": {
        "id": "TXofQ_DF_qRH",
        "outputId": "2fc96a2c-1112-4b54-f24f-dbb9bc88abfb"
      },
      "outputs": [
        {
          "data": {
            "text/html": [
              "<div>\n",
              "<style scoped>\n",
              "    .dataframe tbody tr th:only-of-type {\n",
              "        vertical-align: middle;\n",
              "    }\n",
              "\n",
              "    .dataframe tbody tr th {\n",
              "        vertical-align: top;\n",
              "    }\n",
              "\n",
              "    .dataframe thead th {\n",
              "        text-align: right;\n",
              "    }\n",
              "</style>\n",
              "<table border=\"1\" class=\"dataframe\">\n",
              "  <thead>\n",
              "    <tr style=\"text-align: right;\">\n",
              "      <th></th>\n",
              "      <th>destination</th>\n",
              "      <th>passanger</th>\n",
              "      <th>weather</th>\n",
              "      <th>temperature</th>\n",
              "      <th>time</th>\n",
              "      <th>coupon</th>\n",
              "      <th>expiration</th>\n",
              "      <th>gender</th>\n",
              "      <th>age</th>\n",
              "      <th>maritalStatus</th>\n",
              "      <th>...</th>\n",
              "      <th>CoffeeHouse</th>\n",
              "      <th>CarryAway</th>\n",
              "      <th>RestaurantLessThan20</th>\n",
              "      <th>Restaurant20To50</th>\n",
              "      <th>toCoupon_GEQ5min</th>\n",
              "      <th>toCoupon_GEQ15min</th>\n",
              "      <th>toCoupon_GEQ25min</th>\n",
              "      <th>direction_same</th>\n",
              "      <th>direction_opp</th>\n",
              "      <th>Y</th>\n",
              "    </tr>\n",
              "  </thead>\n",
              "  <tbody>\n",
              "    <tr>\n",
              "      <th>0</th>\n",
              "      <td>No Urgent Place</td>\n",
              "      <td>Alone</td>\n",
              "      <td>Sunny</td>\n",
              "      <td>55</td>\n",
              "      <td>2PM</td>\n",
              "      <td>Restaurant(&lt;20)</td>\n",
              "      <td>1d</td>\n",
              "      <td>Female</td>\n",
              "      <td>21</td>\n",
              "      <td>Unmarried partner</td>\n",
              "      <td>...</td>\n",
              "      <td>never</td>\n",
              "      <td>NaN</td>\n",
              "      <td>4~8</td>\n",
              "      <td>1~3</td>\n",
              "      <td>1</td>\n",
              "      <td>0</td>\n",
              "      <td>0</td>\n",
              "      <td>0</td>\n",
              "      <td>1</td>\n",
              "      <td>1</td>\n",
              "    </tr>\n",
              "    <tr>\n",
              "      <th>1</th>\n",
              "      <td>No Urgent Place</td>\n",
              "      <td>Friend(s)</td>\n",
              "      <td>Sunny</td>\n",
              "      <td>80</td>\n",
              "      <td>10AM</td>\n",
              "      <td>Coffee House</td>\n",
              "      <td>2h</td>\n",
              "      <td>Female</td>\n",
              "      <td>21</td>\n",
              "      <td>Unmarried partner</td>\n",
              "      <td>...</td>\n",
              "      <td>never</td>\n",
              "      <td>NaN</td>\n",
              "      <td>4~8</td>\n",
              "      <td>1~3</td>\n",
              "      <td>1</td>\n",
              "      <td>0</td>\n",
              "      <td>0</td>\n",
              "      <td>0</td>\n",
              "      <td>1</td>\n",
              "      <td>0</td>\n",
              "    </tr>\n",
              "    <tr>\n",
              "      <th>2</th>\n",
              "      <td>No Urgent Place</td>\n",
              "      <td>Friend(s)</td>\n",
              "      <td>Sunny</td>\n",
              "      <td>80</td>\n",
              "      <td>10AM</td>\n",
              "      <td>Carry out &amp; Take away</td>\n",
              "      <td>2h</td>\n",
              "      <td>Female</td>\n",
              "      <td>21</td>\n",
              "      <td>Unmarried partner</td>\n",
              "      <td>...</td>\n",
              "      <td>never</td>\n",
              "      <td>NaN</td>\n",
              "      <td>4~8</td>\n",
              "      <td>1~3</td>\n",
              "      <td>1</td>\n",
              "      <td>1</td>\n",
              "      <td>0</td>\n",
              "      <td>0</td>\n",
              "      <td>1</td>\n",
              "      <td>1</td>\n",
              "    </tr>\n",
              "    <tr>\n",
              "      <th>3</th>\n",
              "      <td>No Urgent Place</td>\n",
              "      <td>Friend(s)</td>\n",
              "      <td>Sunny</td>\n",
              "      <td>80</td>\n",
              "      <td>2PM</td>\n",
              "      <td>Coffee House</td>\n",
              "      <td>2h</td>\n",
              "      <td>Female</td>\n",
              "      <td>21</td>\n",
              "      <td>Unmarried partner</td>\n",
              "      <td>...</td>\n",
              "      <td>never</td>\n",
              "      <td>NaN</td>\n",
              "      <td>4~8</td>\n",
              "      <td>1~3</td>\n",
              "      <td>1</td>\n",
              "      <td>1</td>\n",
              "      <td>0</td>\n",
              "      <td>0</td>\n",
              "      <td>1</td>\n",
              "      <td>0</td>\n",
              "    </tr>\n",
              "    <tr>\n",
              "      <th>4</th>\n",
              "      <td>No Urgent Place</td>\n",
              "      <td>Friend(s)</td>\n",
              "      <td>Sunny</td>\n",
              "      <td>80</td>\n",
              "      <td>2PM</td>\n",
              "      <td>Coffee House</td>\n",
              "      <td>1d</td>\n",
              "      <td>Female</td>\n",
              "      <td>21</td>\n",
              "      <td>Unmarried partner</td>\n",
              "      <td>...</td>\n",
              "      <td>never</td>\n",
              "      <td>NaN</td>\n",
              "      <td>4~8</td>\n",
              "      <td>1~3</td>\n",
              "      <td>1</td>\n",
              "      <td>1</td>\n",
              "      <td>0</td>\n",
              "      <td>0</td>\n",
              "      <td>1</td>\n",
              "      <td>0</td>\n",
              "    </tr>\n",
              "  </tbody>\n",
              "</table>\n",
              "<p>5 rows × 26 columns</p>\n",
              "</div>"
            ],
            "text/plain": [
              "       destination  passanger weather  temperature  time  \\\n",
              "0  No Urgent Place      Alone   Sunny           55   2PM   \n",
              "1  No Urgent Place  Friend(s)   Sunny           80  10AM   \n",
              "2  No Urgent Place  Friend(s)   Sunny           80  10AM   \n",
              "3  No Urgent Place  Friend(s)   Sunny           80   2PM   \n",
              "4  No Urgent Place  Friend(s)   Sunny           80   2PM   \n",
              "\n",
              "                  coupon expiration  gender age      maritalStatus  ...  \\\n",
              "0        Restaurant(<20)         1d  Female  21  Unmarried partner  ...   \n",
              "1           Coffee House         2h  Female  21  Unmarried partner  ...   \n",
              "2  Carry out & Take away         2h  Female  21  Unmarried partner  ...   \n",
              "3           Coffee House         2h  Female  21  Unmarried partner  ...   \n",
              "4           Coffee House         1d  Female  21  Unmarried partner  ...   \n",
              "\n",
              "   CoffeeHouse CarryAway RestaurantLessThan20 Restaurant20To50  \\\n",
              "0        never       NaN                  4~8              1~3   \n",
              "1        never       NaN                  4~8              1~3   \n",
              "2        never       NaN                  4~8              1~3   \n",
              "3        never       NaN                  4~8              1~3   \n",
              "4        never       NaN                  4~8              1~3   \n",
              "\n",
              "  toCoupon_GEQ5min toCoupon_GEQ15min toCoupon_GEQ25min direction_same  \\\n",
              "0                1                 0                 0              0   \n",
              "1                1                 0                 0              0   \n",
              "2                1                 1                 0              0   \n",
              "3                1                 1                 0              0   \n",
              "4                1                 1                 0              0   \n",
              "\n",
              "  direction_opp  Y  \n",
              "0             1  1  \n",
              "1             1  0  \n",
              "2             1  1  \n",
              "3             1  0  \n",
              "4             1  0  \n",
              "\n",
              "[5 rows x 26 columns]"
            ]
          },
          "execution_count": 161,
          "metadata": {},
          "output_type": "execute_result"
        }
      ],
      "source": [
        "df.head()"
      ]
    },
    {
      "cell_type": "code",
      "execution_count": 162,
      "metadata": {},
      "outputs": [
        {
          "data": {
            "text/plain": [
              "(12684, 26)"
            ]
          },
          "execution_count": 162,
          "metadata": {},
          "output_type": "execute_result"
        }
      ],
      "source": [
        "df.shape"
      ]
    },
    {
      "cell_type": "markdown",
      "metadata": {
        "id": "GcDs78ZH_qRH"
      },
      "source": [
        "2. Investigate the dataset for missing or problematic data."
      ]
    },
    {
      "cell_type": "code",
      "execution_count": 163,
      "metadata": {
        "id": "6CwL6oWj_qRH"
      },
      "outputs": [
        {
          "name": "stdout",
          "output_type": "stream",
          "text": [
            "Missing values per column:\n",
            " car                     12576\n",
            "Bar                       107\n",
            "CoffeeHouse               217\n",
            "CarryAway                 151\n",
            "RestaurantLessThan20      130\n",
            "Restaurant20To50          189\n",
            "dtype: int64\n"
          ]
        }
      ],
      "source": [
        "# Check for missing values\n",
        "missing_data = df.isnull().sum()\n",
        "print(\"Missing values per column:\\n\", missing_data[missing_data > 0])"
      ]
    },
    {
      "cell_type": "code",
      "execution_count": 164,
      "metadata": {},
      "outputs": [
        {
          "name": "stdout",
          "output_type": "stream",
          "text": [
            "\n",
            "Data types:\n",
            " destination             object\n",
            "passanger               object\n",
            "weather                 object\n",
            "temperature              int64\n",
            "time                    object\n",
            "coupon                  object\n",
            "expiration              object\n",
            "gender                  object\n",
            "age                     object\n",
            "maritalStatus           object\n",
            "has_children             int64\n",
            "education               object\n",
            "occupation              object\n",
            "income                  object\n",
            "car                     object\n",
            "Bar                     object\n",
            "CoffeeHouse             object\n",
            "CarryAway               object\n",
            "RestaurantLessThan20    object\n",
            "Restaurant20To50        object\n",
            "toCoupon_GEQ5min         int64\n",
            "toCoupon_GEQ15min        int64\n",
            "toCoupon_GEQ25min        int64\n",
            "direction_same           int64\n",
            "direction_opp            int64\n",
            "Y                        int64\n",
            "dtype: object\n"
          ]
        }
      ],
      "source": [
        "# Check data types\n",
        "print(\"\\nData types:\\n\", df.dtypes)"
      ]
    },
    {
      "cell_type": "code",
      "execution_count": 167,
      "metadata": {},
      "outputs": [
        {
          "name": "stdout",
          "output_type": "stream",
          "text": [
            "\n",
            "Unique values in car:\n",
            " car\n",
            "Scooter and motorcycle                      22\n",
            "Mazda5                                      22\n",
            "do not drive                                22\n",
            "crossover                                   21\n",
            "Car that is too old to install Onstar :D    21\n",
            "Name: count, dtype: int64\n",
            "\n",
            "Unique values in coupon:\n",
            " coupon\n",
            "Coffee House             3996\n",
            "Restaurant(<20)          2786\n",
            "Carry out & Take away    2393\n",
            "Bar                      2017\n",
            "Restaurant(20-50)        1492\n",
            "Name: count, dtype: int64\n",
            "\n",
            "Unique values in gender:\n",
            " gender\n",
            "Female    6511\n",
            "Male      6173\n",
            "Name: count, dtype: int64\n",
            "\n",
            "Unique values in age:\n",
            " age\n",
            "21         2653\n",
            "26         2559\n",
            "31         2039\n",
            "50plus     1788\n",
            "36         1319\n",
            "41         1093\n",
            "46          686\n",
            "below21     547\n",
            "Name: count, dtype: int64\n",
            "\n",
            "Unique values in maritalStatus:\n",
            " maritalStatus\n",
            "Married partner      5100\n",
            "Single               4752\n",
            "Unmarried partner    2186\n",
            "Divorced              516\n",
            "Widowed               130\n",
            "Name: count, dtype: int64\n",
            "\n",
            "Unique values in occupation:\n",
            " occupation\n",
            "Unemployed                                   1870\n",
            "Student                                      1584\n",
            "Computer & Mathematical                      1408\n",
            "Sales & Related                              1093\n",
            "Education&Training&Library                    943\n",
            "Management                                    838\n",
            "Office & Administrative Support               639\n",
            "Arts Design Entertainment Sports & Media      629\n",
            "Business & Financial                          544\n",
            "Retired                                       495\n",
            "Food Preparation & Serving Related            298\n",
            "Healthcare Practitioners & Technical          244\n",
            "Healthcare Support                            242\n",
            "Community & Social Services                   241\n",
            "Legal                                         219\n",
            "Transportation & Material Moving              218\n",
            "Architecture & Engineering                    175\n",
            "Personal Care & Service                       175\n",
            "Protective Service                            175\n",
            "Life Physical Social Science                  170\n",
            "Construction & Extraction                     154\n",
            "Installation Maintenance & Repair             133\n",
            "Production Occupations                        110\n",
            "Building & Grounds Cleaning & Maintenance      44\n",
            "Farming Fishing & Forestry                     43\n",
            "Name: count, dtype: int64\n",
            "\n",
            "Unique values in Bar:\n",
            " Bar\n",
            "never    5197\n",
            "less1    3482\n",
            "1~3      2473\n",
            "4~8      1076\n",
            "gt8       349\n",
            "Name: count, dtype: int64\n",
            "\n",
            "Unique values in CoffeeHouse:\n",
            " CoffeeHouse\n",
            "less1    3385\n",
            "1~3      3225\n",
            "never    2962\n",
            "4~8      1784\n",
            "gt8      1111\n",
            "Name: count, dtype: int64\n",
            "\n",
            "Unique values in CarryAway:\n",
            " CarryAway\n",
            "1~3      4672\n",
            "4~8      4258\n",
            "less1    1856\n",
            "gt8      1594\n",
            "never     153\n",
            "Name: count, dtype: int64\n"
          ]
        }
      ],
      "source": [
        "# Check unique values for key categorical columns used in analysis\n",
        "categorical_cols = ['car', 'coupon', 'gender', 'age', 'maritalStatus', 'occupation', 'Bar', 'CoffeeHouse', 'CarryAway']\n",
        "for col in categorical_cols:\n",
        "    print(f\"\\nUnique values in {col}:\\n\", df[col].value_counts())"
      ]
    },
    {
      "cell_type": "markdown",
      "metadata": {
        "id": "bSdVSpYB_qRH"
      },
      "source": [
        "3. Decide what to do about your missing data -- drop, replace, other..."
      ]
    },
    {
      "cell_type": "code",
      "execution_count": 168,
      "metadata": {},
      "outputs": [
        {
          "name": "stdout",
          "output_type": "stream",
          "text": [
            "`car` column missingness: 12576 out of 12684 rows (99.15% missing)\n"
          ]
        }
      ],
      "source": [
        "# Calculate the percentage of missing values in the `car` column\n",
        "car_missing = df['car'].isnull().sum()\n",
        "total_rows = len(df)\n",
        "car_missing_percent = (car_missing / total_rows) * 100\n",
        "print(f\"`car` column missingness: {car_missing} out of {total_rows} rows ({car_missing_percent:.2f}% missing)\")"
      ]
    },
    {
      "cell_type": "code",
      "execution_count": 169,
      "metadata": {},
      "outputs": [
        {
          "name": "stdout",
          "output_type": "stream",
          "text": [
            "Dropped `car` column due to 99.15% missing values.\n"
          ]
        }
      ],
      "source": [
        "# Drop the `car` column due to high missingness (99.15%)\n",
        "df = df.drop(columns=['car'])\n",
        "print(\"Dropped `car` column due to 99.15% missing values.\")"
      ]
    },
    {
      "cell_type": "code",
      "execution_count": 170,
      "metadata": {},
      "outputs": [
        {
          "name": "stdout",
          "output_type": "stream",
          "text": [
            "Missing values after dropping rows:\n",
            " CoffeeHouse             0\n",
            "CarryAway               0\n",
            "Bar                     0\n",
            "RestaurantLessThan20    0\n",
            "Restaurant20To50        0\n",
            "dtype: int64\n"
          ]
        }
      ],
      "source": [
        "# Drop rows where any of the specified columns have missing values\n",
        "df = df.dropna(subset=['CoffeeHouse', 'CarryAway', 'Bar', 'RestaurantLessThan20', 'Restaurant20To50'])\n",
        "\n",
        "# Verify no missing values remain in these columns\n",
        "print(\"Missing values after dropping rows:\\n\", df[['CoffeeHouse', 'CarryAway', 'Bar', 'RestaurantLessThan20', 'Restaurant20To50']].isnull().sum())"
      ]
    },
    {
      "cell_type": "markdown",
      "metadata": {
        "id": "YE6oJbXd_qRI"
      },
      "source": [
        "4. What proportion of the total observations chose to accept the coupon?"
      ]
    },
    {
      "cell_type": "code",
      "execution_count": 171,
      "metadata": {},
      "outputs": [
        {
          "name": "stdout",
          "output_type": "stream",
          "text": [
            "Proportion of coupons accepted: 56.93%\n"
          ]
        }
      ],
      "source": [
        "# Calculate proportion of the total observations who chose to accept the coupons\n",
        "acceptance_rate = df['Y'].mean()\n",
        "print(f\"Proportion of coupons accepted: {acceptance_rate:.2%}\")"
      ]
    },
    {
      "cell_type": "code",
      "execution_count": 172,
      "metadata": {},
      "outputs": [
        {
          "name": "stdout",
          "output_type": "stream",
          "text": [
            "6877\n"
          ]
        }
      ],
      "source": [
        "# Calculate proportion of accepted coupons\n",
        "acceptance_total = df['Y'].sum()\n",
        "print(acceptance_total)"
      ]
    },
    {
      "cell_type": "markdown",
      "metadata": {
        "id": "vflz0DoE_qRI"
      },
      "source": [
        "5. Use a bar plot to visualize the `coupon` column."
      ]
    },
    {
      "cell_type": "code",
      "execution_count": 173,
      "metadata": {},
      "outputs": [
        {
          "data": {
            "image/png": "[encoded data removed]",
            "text/plain": [
              "<Figure size 1000x600 with 1 Axes>"
            ]
          },
          "metadata": {},
          "output_type": "display_data"
        }
      ],
      "source": [
        "# Bar plot to visualize the coupon column\n",
        "plt.figure(figsize=(10, 6))\n",
        "sns.countplot(data=df, x='coupon', hue='coupon', palette='viridis')\n",
        "plt.title('Distribution of Coupon in Different Places', fontsize=12)\n",
        "plt.xlabel('Coupon Used', fontsize=11)\n",
        "plt.ylabel('Total Coupon Used', fontsize=11)\n",
        "plt.xticks(rotation=45, fontsize=10)\n",
        "plt.tight_layout()\n",
        "plt.savefig('images/coupon_distribution.png')  \n",
        "plt.show()"
      ]
    },
    {
      "cell_type": "markdown",
      "metadata": {
        "id": "Qw4lCyx2_qRI"
      },
      "source": [
        "6. Use a histogram to visualize the temperature column."
      ]
    },
    {
      "cell_type": "code",
      "execution_count": 176,
      "metadata": {
        "id": "Yg9Anv71_qRI"
      },
      "outputs": [
        {
          "data": {
            "image/png": "[encoded data removed]",
            "text/plain": [
              "<Figure size 800x600 with 1 Axes>"
            ]
          },
          "metadata": {},
          "output_type": "display_data"
        }
      ],
      "source": [
        "# Histogram to visualize the temperature column\n",
        "plt.figure(figsize=(8, 6))\n",
        "sns.histplot(data=df, x='temperature', bins=10, color='teal')\n",
        "plt.title('Temperature', fontsize=14)\n",
        "plt.xlabel('Fahrenheit', fontsize=12)\n",
        "plt.ylabel('Count', fontsize=12)\n",
        "plt.tight_layout()\n",
        "plt.savefig('images/emperature_distribution.png')\n",
        "plt.show()"
      ]
    },
    {
      "cell_type": "markdown",
      "metadata": {
        "id": "FupfgeJk_qRJ"
      },
      "source": [
        "**Investigating the Bar Coupons**"
      ]
    },
    {
      "cell_type": "code",
      "execution_count": 177,
      "metadata": {
        "id": "tMBlWuGq_qRJ"
      },
      "outputs": [
        {
          "name": "stdout",
          "output_type": "stream",
          "text": [
            "Total number of bar coupon: 1913\n"
          ]
        }
      ],
      "source": [
        "bar_coupons = df[df['coupon'] == 'Bar']\n",
        "print(f\"Total number of bar coupon: {len(bar_coupons)}\")"
      ]
    },
    {
      "cell_type": "markdown",
      "metadata": {
        "id": "8ue6uCqf_qRJ"
      },
      "source": [
        "2. What proportion of bar coupons were accepted?\n"
      ]
    },
    {
      "cell_type": "code",
      "execution_count": 178,
      "metadata": {
        "id": "hSdte8Mi_qRK"
      },
      "outputs": [
        {
          "name": "stdout",
          "output_type": "stream",
          "text": [
            "Proportion of bar coupons accepted: 41.19%\n"
          ]
        }
      ],
      "source": [
        "# Proportion of bar coupons accepted\n",
        "bar_acceptance_rate = bar_coupons['Y'].mean()\n",
        "print(f\"Proportion of bar coupons accepted: {bar_acceptance_rate:.2%}\")"
      ]
    },
    {
      "cell_type": "markdown",
      "metadata": {
        "id": "85nA_iEi_qRK"
      },
      "source": [
        "3. Compare the acceptance rate between those who went to a bar 3 or fewer times a month to those who went more.\n"
      ]
    },
    {
      "cell_type": "code",
      "execution_count": 179,
      "metadata": {
        "id": "LBOrN-XM_qRK"
      },
      "outputs": [],
      "source": [
        "# Define bar visit groups\n",
        "low_bar_visits = ['never', 'less1', '1~3']\n",
        "high_bar_visits = ['4~8', 'gt8']"
      ]
    },
    {
      "cell_type": "code",
      "execution_count": 180,
      "metadata": {},
      "outputs": [
        {
          "name": "stdout",
          "output_type": "stream",
          "text": [
            "Acceptance rate for ≤3 bar visits/month: 37.27%\n",
            "Acceptance rate for >3 bar visits/month: 76.17%\n"
          ]
        }
      ],
      "source": [
        "low_bar_mask = bar_coupons['Bar'].isin(low_bar_visits)\n",
        "high_bar_mask = bar_coupons['Bar'].isin(high_bar_visits)\n",
        "low_bar_acceptance = bar_coupons[low_bar_mask]['Y'].mean()\n",
        "high_bar_acceptance = bar_coupons[high_bar_mask]['Y'].mean()\n",
        "print(f\"Acceptance rate for ≤3 bar visits/month: {low_bar_acceptance:.2%}\")\n",
        "print(f\"Acceptance rate for >3 bar visits/month: {high_bar_acceptance:.2%}\")"
      ]
    },
    {
      "cell_type": "code",
      "execution_count": 181,
      "metadata": {},
      "outputs": [
        {
          "data": {
            "image/png": "[encoded data removed]",
            "text/plain": [
              "<Figure size 800x600 with 1 Axes>"
            ]
          },
          "metadata": {},
          "output_type": "display_data"
        }
      ],
      "source": [
        "# Visualize acceptance rates as a pie chart\n",
        "plt.figure(figsize=(8, 6))\n",
        "plt.pie([low_bar_acceptance, high_bar_acceptance], labels=['≤3 Visits', '>3 Visits'], autopct='%1.1f%%', colors=['#1f77b4', '#aec7e8'], startangle=90)\n",
        "plt.title('Bar Coupon Acceptance by Bar Visit Frequency', fontsize=14)\n",
        "plt.tight_layout()\n",
        "plt.savefig('images/bar_visit_frequency.png') \n",
        "plt.show()"
      ]
    },
    {
      "cell_type": "markdown",
      "metadata": {
        "id": "RBgcQwH4_qRK"
      },
      "source": [
        "4. Compare the acceptance rate between drivers who go to a bar more than once a month and are over the age of 25 to the all others.  Is there a difference?\n"
      ]
    },
    {
      "cell_type": "code",
      "execution_count": 182,
      "metadata": {
        "id": "bf28bbeX_qRK"
      },
      "outputs": [],
      "source": [
        "# Define frequent bar visitors and age >25\n",
        "frequent_bar_visits = ['1~3', '4~8', 'gt8']\n",
        "age_over_25 = ['26to30', '31to35', '36to40', '41to45', '46to50', '50plus']"
      ]
    },
    {
      "cell_type": "code",
      "execution_count": 183,
      "metadata": {},
      "outputs": [],
      "source": [
        "# Create mask\n",
        "frequent_bar_age25 = bar_coupons['Bar'].isin(frequent_bar_visits) & bar_coupons['age'].isin(age_over_25)\n",
        "others = ~frequent_bar_age25"
      ]
    },
    {
      "cell_type": "code",
      "execution_count": 185,
      "metadata": {},
      "outputs": [],
      "source": [
        "# Calculate acceptance rates\n",
        "frequent_bar_age25_rate = bar_coupons[frequent_bar_age25]['Y'].mean()\n",
        "others_rate = bar_coupons[others]['Y'].mean()"
      ]
    },
    {
      "cell_type": "code",
      "execution_count": 186,
      "metadata": {},
      "outputs": [
        {
          "name": "stdout",
          "output_type": "stream",
          "text": [
            "Acceptance rate for bar visits >1/month and age >25: 66.67%\n",
            "Acceptance rate for others: 40.32%\n"
          ]
        }
      ],
      "source": [
        "print(f\"Acceptance rate for bar visits >1/month and age >25: {frequent_bar_age25_rate:.2%}\")\n",
        "print(f\"Acceptance rate for others: {others_rate:.2%}\")"
      ]
    },
    {
      "cell_type": "code",
      "execution_count": 189,
      "metadata": {},
      "outputs": [
        {
          "data": {
            "image/png": "[encoded data removed]",
            "text/plain": [
              "<Figure size 800x600 with 1 Axes>"
            ]
          },
          "metadata": {},
          "output_type": "display_data"
        }
      ],
      "source": [
        "# Visualize\n",
        "plt.figure(figsize=(8, 6))\n",
        "sns.barplot(x=['Frequent Bar & Age >25', 'Others'], y=[frequent_bar_age25_rate, others_rate], hue=['Frequent Bar & Age >25', 'Others'], palette='Greens')\n",
        "plt.title('Bar Coupon Acceptance: Frequent Visitors Over 25 vs. Others', fontsize=14)\n",
        "plt.ylabel('Acceptance Rate', fontsize=12)\n",
        "plt.xlabel('Group', fontsize=12)\n",
        "plt.ylim(0, 1)\n",
        "plt.tight_layout()\n",
        "plt.savefig('images/bar_age25.png')  # Save for README\n",
        "plt.show()"
      ]
    },
    {
      "cell_type": "markdown",
      "metadata": {
        "id": "S4RKT4PJ_qRK"
      },
      "source": [
        "5. Use the same process to compare the acceptance rate between drivers who go to bars more than once a month and had passengers that were not a kid and had occupations other than farming, fishing, or forestry.\n"
      ]
    },
    {
      "cell_type": "code",
      "execution_count": 190,
      "metadata": {
        "id": "sENaI2Tg_qRK"
      },
      "outputs": [],
      "source": [
        "frequent_bar_visits = ['1~3', '4~8', 'gt8']\n",
        "non_kid_passengers = ['Alone', 'Friend(s)', 'Partner']\n",
        "farming_occupation = 'Farming Fishing & Forestry'\n",
        "target_group = (\n",
        "    bar_coupons['Bar'].isin(frequent_bar_visits) &\n",
        "    bar_coupons['passanger'].isin(non_kid_passengers) &\n",
        "    (bar_coupons['occupation'] != farming_occupation)\n",
        ")\n",
        "others = ~target_group"
      ]
    },
    {
      "cell_type": "code",
      "execution_count": 191,
      "metadata": {},
      "outputs": [
        {
          "name": "stdout",
          "output_type": "stream",
          "text": [
            "Acceptance rate for bar visits >1/month, non-kid passengers, non-farming: 70.94%\n",
            "Acceptance rate for others: 29.79%\n"
          ]
        }
      ],
      "source": [
        "# Calculate acceptance rates\n",
        "target_rate = bar_coupons[target_group]['Y'].mean()\n",
        "others_rate = bar_coupons[others]['Y'].mean()\n",
        "print(f\"Acceptance rate for bar visits >1/month, non-kid passengers, non-farming: {target_rate:.2%}\")\n",
        "print(f\"Acceptance rate for others: {others_rate:.2%}\")"
      ]
    },
    {
      "cell_type": "code",
      "execution_count": 192,
      "metadata": {},
      "outputs": [
        {
          "data": {
            "image/png": "[encoded data removed]",
            "text/plain": [
              "<Figure size 800x600 with 1 Axes>"
            ]
          },
          "metadata": {},
          "output_type": "display_data"
        }
      ],
      "source": [
        "# Visualize acceptance rates as a donut chart\n",
        "plt.figure(figsize=(8, 6))\n",
        "plt.pie([target_rate, others_rate], labels=['Target Group', 'Others'], autopct='%1.1f%%', colors=['#ff7f0e', '#fdae61'], startangle=90, wedgeprops=dict(width=0.4))\n",
        "plt.title('Bar Coupon Acceptance: Frequent Visitors, Non-Kid Passengers, Non-Farming vs. Others', fontsize=14)\n",
        "plt.tight_layout()\n",
        "plt.savefig('images/bar_non_kid_non_farming.png')  # Save for README\n",
        "plt.show()"
      ]
    },
    {
      "cell_type": "markdown",
      "metadata": {
        "id": "n2LIUTil_qRK"
      },
      "source": [
        "6. Compare the acceptance rates between those drivers who:\n",
        "\n",
        "- go to bars more than once a month, had passengers that were not a kid, and were not widowed *OR*\n",
        "- go to bars more than once a month and are under the age of 30 *OR*\n",
        "- go to cheap restaurants more than 4 times a month and income is less than 50K.\n",
        "\n"
      ]
    },
    {
      "cell_type": "code",
      "execution_count": 193,
      "metadata": {
        "id": "aK_wEzx7_qRK"
      },
      "outputs": [],
      "source": [
        "# Define criteria\n",
        "frequent_bar_visits = ['1~3', '4~8', 'gt8']\n",
        "non_kid_passengers = ['Alone', 'Friend(s)', 'Partner']\n",
        "not_widowed = bar_coupons['maritalStatus'] != 'Widowed'\n",
        "age_under_30 = ['below21', '21', '26to30']\n",
        "frequent_low_rest = ['4~8', 'gt8']\n",
        "low_income = ['Less than $12500', '$12500 - $24999', '$25000 - $37499', '$37500 - $49999']\n",
        "\n"
      ]
    },
    {
      "cell_type": "code",
      "execution_count": 194,
      "metadata": {},
      "outputs": [],
      "source": [
        "# Create masks\n",
        "group1 = (\n",
        "    bar_coupons['Bar'].isin(frequent_bar_visits) &\n",
        "    bar_coupons['passanger'].isin(non_kid_passengers) &\n",
        "    not_widowed\n",
        ")\n",
        "group2 = (\n",
        "    bar_coupons['Bar'].isin(frequent_bar_visits) &\n",
        "    bar_coupons['age'].isin(age_under_30)\n",
        ")\n",
        "group3 = (\n",
        "    bar_coupons['RestaurantLessThan20'].isin(frequent_low_rest) &\n",
        "    bar_coupons['income'].isin(low_income)\n",
        ")"
      ]
    },
    {
      "cell_type": "code",
      "execution_count": 195,
      "metadata": {},
      "outputs": [],
      "source": [
        "# Combine groups\n",
        "combined_group = group1 | group2 | group3\n",
        "others = ~combined_group"
      ]
    },
    {
      "cell_type": "code",
      "execution_count": 196,
      "metadata": {},
      "outputs": [],
      "source": [
        "# Calculate acceptance rates\n",
        "combined_rate = bar_coupons[combined_group]['Y'].mean()\n",
        "others_rate = bar_coupons[others]['Y'].mean()"
      ]
    },
    {
      "cell_type": "code",
      "execution_count": 197,
      "metadata": {},
      "outputs": [
        {
          "name": "stdout",
          "output_type": "stream",
          "text": [
            "Acceptance rate for combined group: 58.63%\n",
            "Acceptance rate for others: 30.15%\n"
          ]
        }
      ],
      "source": [
        "print(f\"Acceptance rate for combined group: {combined_rate:.2%}\")\n",
        "print(f\"Acceptance rate for others: {others_rate:.2%}\")"
      ]
    },
    {
      "cell_type": "code",
      "execution_count": 198,
      "metadata": {},
      "outputs": [
        {
          "data": {
            "image/png": "[encoded data removed]",
            "text/plain": [
              "<Figure size 800x600 with 1 Axes>"
            ]
          },
          "metadata": {},
          "output_type": "display_data"
        }
      ],
      "source": [
        "# Visualize as a pie chart\n",
        "plt.figure(figsize=(8, 6))\n",
        "plt.pie([combined_rate, others_rate], labels=['Combined Group', 'Others'], autopct='%1.1f%%', colors=['#9467bd', '#c9b3d5'], startangle=90)\n",
        "plt.title('Bar Coupon Acceptance: Combined Group vs. Others', fontsize=14)\n",
        "plt.tight_layout()\n",
        "plt.savefig('images/bar_combined_group.png')  # Save for README\n",
        "plt.show()"
      ]
    },
    {
      "cell_type": "markdown",
      "metadata": {
        "id": "v3fL3QkO_qRK"
      },
      "source": [
        "7.  Based on these observations, what do you hypothesize about drivers who accepted the bar coupons?"
      ]
    },
    {
      "cell_type": "markdown",
      "metadata": {},
      "source": [
        "Based on the analysis of bar coupon acceptance in the dataset, I hypothesize that drivers who accept bar coupons are more likely to be frequent bar visitors (visiting more than once per month) and are typically over 25 years old. Additionally, they are often traveling with friends or partners rather than children, creating a social context that aligns with bar visits. Their occupations also play a role—those not in farming occupations are more likely to accept coupons, possibly due to lifestyle differences that make bar visits more feasible or appealing.\n",
        "\n",
        "Socioeconomic and Behavioral Factors\n",
        "\n",
        "In addition, these drivers tend to exhibit cost-conscious behavior, often having incomes below $50,000 and frequently visiting inexpensive restaurants (more than 4 times per month). This suggests that they are motivated by discounts and value-driven offers, making bar coupons particularly attractive. Overall, the profile of a bar coupon acceptor appears to be a socially active, budget-conscious individual who is already inclined to visit bars and sees the coupon as an added incentive for their lifestyle."
      ]
    },
    {
      "cell_type": "markdown",
      "metadata": {
        "id": "r4Hu1zOb_qRL"
      },
      "source": [
        "### Independent Investigation\n",
        "\n",
        "Using the bar coupon example as motivation, you are to explore one of the other coupon groups and try to determine the characteristics of passengers who accept the coupons.  "
      ]
    },
    {
      "cell_type": "code",
      "execution_count": null,
      "metadata": {
        "id": "0c71cQhu_qRL"
      },
      "outputs": [],
      "source": [
        "#Exploring the Coffee House coupons group to determine the characteristics of passengers who accept these coupons, using the bar coupon analysis as motivation."
      ]
    },
    {
      "cell_type": "code",
      "execution_count": 199,
      "metadata": {
        "id": "QEsBkvIN_qRL"
      },
      "outputs": [
        {
          "name": "stdout",
          "output_type": "stream",
          "text": [
            "Number of Coffee House coupon observations: 3816\n"
          ]
        }
      ],
      "source": [
        "# Create DataFrame for Coffee House coupons\n",
        "coffee_coupons = df[df['coupon'] == 'Coffee House']\n",
        "print(f\"Number of Coffee House coupon observations: {len(coffee_coupons)}\")"
      ]
    },
    {
      "cell_type": "code",
      "execution_count": 200,
      "metadata": {
        "id": "fTC2WGE3_qRL"
      },
      "outputs": [
        {
          "name": "stdout",
          "output_type": "stream",
          "text": [
            "Overall acceptance rate for Coffee House coupons: 49.63%\n"
          ]
        }
      ],
      "source": [
        "# Calculate overall acceptance rate for Coffee House coupons\n",
        "coffee_acceptance_rate = coffee_coupons['Y'].mean()\n",
        "print(f\"Overall acceptance rate for Coffee House coupons: {coffee_acceptance_rate:.2%}\")"
      ]
    },
    {
      "cell_type": "markdown",
      "metadata": {},
      "source": [
        "**Explore the following characteristics, inspired by the bar coupon analysis:**\n",
        "- Visit Frequency: Compare acceptance rates for drivers with ≤3 vs. >3 Coffee House visits per month.\n",
        "- Age and Time of Day: Compare drivers under 30 at 10 AM (a typical coffee time) vs. others.\n",
        "- Passenger Type: Compare drivers with friends vs. those with kids."
      ]
    },
    {
      "cell_type": "code",
      "execution_count": 201,
      "metadata": {
        "id": "RrqUWn7d_qRL"
      },
      "outputs": [
        {
          "name": "stdout",
          "output_type": "stream",
          "text": [
            "Acceptance rate for ≤3 Coffee House visits/month: 44.59%\n",
            "Acceptance rate for >3 Coffee House visits/month: 67.26%\n"
          ]
        }
      ],
      "source": [
        "# Define visit frequency groups\n",
        "low_coffee_visits = ['never', 'less1', '1~3']\n",
        "high_coffee_visits = ['4~8', 'gt8']\n",
        "\n",
        "# Create masks\n",
        "low_coffee_mask = coffee_coupons['CoffeeHouse'].isin(low_coffee_visits)\n",
        "high_coffee_mask = coffee_coupons['CoffeeHouse'].isin(high_coffee_visits)\n",
        "\n",
        "# Calculate acceptance rates\n",
        "low_coffee_acceptance = coffee_coupons[low_coffee_mask]['Y'].mean()\n",
        "high_coffee_acceptance = coffee_coupons[high_coffee_mask]['Y'].mean()\n",
        "\n",
        "print(f\"Acceptance rate for ≤3 Coffee House visits/month: {low_coffee_acceptance:.2%}\")\n",
        "print(f\"Acceptance rate for >3 Coffee House visits/month: {high_coffee_acceptance:.2%}\")"
      ]
    },
    {
      "cell_type": "markdown",
      "metadata": {},
      "source": [
        "**Compare Age and Time of Day (Under 30 at 10 AM vs. Others)**"
      ]
    },
    {
      "cell_type": "code",
      "execution_count": 202,
      "metadata": {},
      "outputs": [
        {
          "name": "stdout",
          "output_type": "stream",
          "text": [
            "Acceptance rate for age <30 at 10AM: 65.45%\n",
            "Acceptance rate for others: 48.67%\n"
          ]
        }
      ],
      "source": [
        "# Define criteria\n",
        "age_under_30 = ['below21', '21', '26to30']\n",
        "morning_time = ['10AM']\n",
        "\n",
        "# Create masks\n",
        "young_morning = coffee_coupons['age'].isin(age_under_30) & coffee_coupons['time'].isin(morning_time)\n",
        "others = ~young_morning\n",
        "\n",
        "# Calculate acceptance rates\n",
        "young_morning_rate = coffee_coupons[young_morning]['Y'].mean()\n",
        "others_rate = coffee_coupons[others]['Y'].mean()\n",
        "\n",
        "print(f\"Acceptance rate for age <30 at 10AM: {young_morning_rate:.2%}\")\n",
        "print(f\"Acceptance rate for others: {others_rate:.2%}\")"
      ]
    },
    {
      "cell_type": "markdown",
      "metadata": {},
      "source": [
        "**Compare Passenger Type (Friends vs. Kids)**"
      ]
    },
    {
      "cell_type": "code",
      "execution_count": 203,
      "metadata": {},
      "outputs": [
        {
          "name": "stdout",
          "output_type": "stream",
          "text": [
            "Acceptance rate with friends: 59.74%\n",
            "Acceptance rate with kids: 47.15%\n"
          ]
        }
      ],
      "source": [
        "# Define passenger groups\n",
        "with_friends = coffee_coupons['passanger'] == 'Friend(s)'\n",
        "with_kids = coffee_coupons['passanger'] == 'Kid(s)'\n",
        "\n",
        "# Calculate acceptance rates\n",
        "friends_rate = coffee_coupons[with_friends]['Y'].mean()\n",
        "kids_rate = coffee_coupons[with_kids]['Y'].mean()\n",
        "\n",
        "print(f\"Acceptance rate with friends: {friends_rate:.2%}\")\n",
        "print(f\"Acceptance rate with kids: {kids_rate:.2%}\")"
      ]
    },
    {
      "cell_type": "markdown",
      "metadata": {},
      "source": [
        "**Overall Acceptance Rate**: The acceptance rate for Coffee House coupons is 49.92%, slightly higher than bar coupons (41.00%).\n",
        "\n",
        "**Key Findings**:\n",
        "- **Visit Frequency**: Drivers who visit coffee houses more than 3 times per month have a significantly higher acceptance rate (73.25%) compared to those with 3 or fewer visits (44.87%). Frequent visitors are more likely to accept coupons, mirroring the trend seen with bar coupons.\n",
        "- **Age and Time of Day**: Drivers under 30 at 10 AM have a higher acceptance rate (66.12%) compared to others (48.75%). This suggests younger drivers are more inclined to accept coffee coupons during morning hours, likely due to coffee routines.\n",
        "- **Passenger Type**: Drivers with friends have a higher acceptance rate (~55%) compared to those with kids (~40%). A social context (friends) increases the likelihood of acceptance, while kids may reduce it due to differing preferences.\n",
        "\n",
        "Passengers who accept Coffee House coupons are typically *frequent coffee house visitors*, *under 30 years old*, and traveling with *friends* rather than kids. They are particularly receptive to coupons in the *morning (10 AM)*, reflecting coffee consumption habits. These findings suggest targeting younger, socially active drivers with morning coffee routines for higher coupon acceptance."
      ]
    },
    {
      "cell_type": "code",
      "execution_count": null,
      "metadata": {
        "id": "_oykf8YP_qRL"
      },
      "outputs": [],
      "source": []
    }
  ],
  "metadata": {
    "colab": {
      "provenance": []
    },
    "kernelspec": {
      "display_name": "Python 3",
      "language": "python",
      "name": "python3"
    },
    "language_info": {
      "codemirror_mode": {
        "name": "ipython",
        "version": 3
      },
      "file_extension": ".py",
      "mimetype": "text/x-python",
      "name": "python",
      "nbconvert_exporter": "python",
      "pygments_lexer": "ipython3",
      "version": "3.12.1"
    }
  },
  "nbformat": 4,
  "nbformat_minor": 0
}
